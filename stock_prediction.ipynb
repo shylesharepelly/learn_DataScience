{
  "nbformat": 4,
  "nbformat_minor": 0,
  "metadata": {
    "colab": {
      "provenance": [],
      "authorship_tag": "ABX9TyOIany1567ag0P0oOHawBlA",
      "include_colab_link": true
    },
    "kernelspec": {
      "name": "python3",
      "display_name": "Python 3"
    },
    "language_info": {
      "name": "python"
    }
  },
  "cells": [
    {
      "cell_type": "markdown",
      "metadata": {
        "id": "view-in-github",
        "colab_type": "text"
      },
      "source": [
        "<a href=\"https://colab.research.google.com/github/shylesharepelly/learn_DataScience/blob/main/stock_prediction.ipynb\" target=\"_parent\"><img src=\"https://colab.research.google.com/assets/colab-badge.svg\" alt=\"Open In Colab\"/></a>"
      ]
    },
    {
      "cell_type": "code",
      "execution_count": 11,
      "metadata": {
        "id": "3HfxeRi8M_88"
      },
      "outputs": [],
      "source": [
        "import numpy as np\n",
        "import pandas as pd\n",
        "import matplotlib.pyplot as plt\n",
        "%matplotlib inline\n",
        "import seaborn as sns\n",
        "sns.set()"
      ]
    },
    {
      "cell_type": "code",
      "source": [
        "import csv\n",
        "import math\n",
        "import warnings\n",
        "import datetime\n",
        "from sklearn.preprocessing import MinMaxScaler\n",
        "from sklearn.metrics import mean_squared_error\n",
        "from tensorflow.keras.models import Sequential\n",
        "from tensorflow.keras.layers import Dense,LSTM,Dropout"
      ],
      "metadata": {
        "id": "Bn4zQ1neNGpQ"
      },
      "execution_count": 2,
      "outputs": []
    },
    {
      "cell_type": "code",
      "source": [
        "data=pd.read_csv('https://raw.githubusercontent.com/mwitiderrick/stockprice/master/NSE-TATAGLOBAL.csv')\n",
        "data"
      ],
      "metadata": {
        "colab": {
          "base_uri": "https://localhost:8080/",
          "height": 423
        },
        "id": "b_pXCreSNGrp",
        "outputId": "7e9d17d5-6f54-459e-ec58-2c5851f2e82a"
      },
      "execution_count": 4,
      "outputs": [
        {
          "output_type": "execute_result",
          "data": {
            "text/plain": [
              "            Date    Open    High     Low    Last   Close  \\\n",
              "0     2018-09-28  234.05  235.95  230.20  233.50  233.75   \n",
              "1     2018-09-27  234.55  236.80  231.10  233.80  233.25   \n",
              "2     2018-09-26  240.00  240.00  232.50  235.00  234.25   \n",
              "3     2018-09-25  233.30  236.75  232.00  236.25  236.10   \n",
              "4     2018-09-24  233.55  239.20  230.75  234.00  233.30   \n",
              "...          ...     ...     ...     ...     ...     ...   \n",
              "2030  2010-07-27  117.60  119.50  112.00  118.80  118.65   \n",
              "2031  2010-07-26  120.10  121.00  117.10  117.10  117.60   \n",
              "2032  2010-07-23  121.80  121.95  120.25  120.35  120.65   \n",
              "2033  2010-07-22  120.30  122.00  120.25  120.75  120.90   \n",
              "2034  2010-07-21  122.10  123.00  121.05  121.10  121.55   \n",
              "\n",
              "      Total Trade Quantity  Turnover (Lacs)  \n",
              "0                  3069914          7162.35  \n",
              "1                  5082859         11859.95  \n",
              "2                  2240909          5248.60  \n",
              "3                  2349368          5503.90  \n",
              "4                  3423509          7999.55  \n",
              "...                    ...              ...  \n",
              "2030                586100           694.98  \n",
              "2031                658440           780.01  \n",
              "2032                281312           340.31  \n",
              "2033                293312           355.17  \n",
              "2034                658666           803.56  \n",
              "\n",
              "[2035 rows x 8 columns]"
            ],
            "text/html": [
              "\n",
              "  <div id=\"df-58c4dc6f-9ff6-4c2a-9317-d29bd7ad6ea8\">\n",
              "    <div class=\"colab-df-container\">\n",
              "      <div>\n",
              "<style scoped>\n",
              "    .dataframe tbody tr th:only-of-type {\n",
              "        vertical-align: middle;\n",
              "    }\n",
              "\n",
              "    .dataframe tbody tr th {\n",
              "        vertical-align: top;\n",
              "    }\n",
              "\n",
              "    .dataframe thead th {\n",
              "        text-align: right;\n",
              "    }\n",
              "</style>\n",
              "<table border=\"1\" class=\"dataframe\">\n",
              "  <thead>\n",
              "    <tr style=\"text-align: right;\">\n",
              "      <th></th>\n",
              "      <th>Date</th>\n",
              "      <th>Open</th>\n",
              "      <th>High</th>\n",
              "      <th>Low</th>\n",
              "      <th>Last</th>\n",
              "      <th>Close</th>\n",
              "      <th>Total Trade Quantity</th>\n",
              "      <th>Turnover (Lacs)</th>\n",
              "    </tr>\n",
              "  </thead>\n",
              "  <tbody>\n",
              "    <tr>\n",
              "      <th>0</th>\n",
              "      <td>2018-09-28</td>\n",
              "      <td>234.05</td>\n",
              "      <td>235.95</td>\n",
              "      <td>230.20</td>\n",
              "      <td>233.50</td>\n",
              "      <td>233.75</td>\n",
              "      <td>3069914</td>\n",
              "      <td>7162.35</td>\n",
              "    </tr>\n",
              "    <tr>\n",
              "      <th>1</th>\n",
              "      <td>2018-09-27</td>\n",
              "      <td>234.55</td>\n",
              "      <td>236.80</td>\n",
              "      <td>231.10</td>\n",
              "      <td>233.80</td>\n",
              "      <td>233.25</td>\n",
              "      <td>5082859</td>\n",
              "      <td>11859.95</td>\n",
              "    </tr>\n",
              "    <tr>\n",
              "      <th>2</th>\n",
              "      <td>2018-09-26</td>\n",
              "      <td>240.00</td>\n",
              "      <td>240.00</td>\n",
              "      <td>232.50</td>\n",
              "      <td>235.00</td>\n",
              "      <td>234.25</td>\n",
              "      <td>2240909</td>\n",
              "      <td>5248.60</td>\n",
              "    </tr>\n",
              "    <tr>\n",
              "      <th>3</th>\n",
              "      <td>2018-09-25</td>\n",
              "      <td>233.30</td>\n",
              "      <td>236.75</td>\n",
              "      <td>232.00</td>\n",
              "      <td>236.25</td>\n",
              "      <td>236.10</td>\n",
              "      <td>2349368</td>\n",
              "      <td>5503.90</td>\n",
              "    </tr>\n",
              "    <tr>\n",
              "      <th>4</th>\n",
              "      <td>2018-09-24</td>\n",
              "      <td>233.55</td>\n",
              "      <td>239.20</td>\n",
              "      <td>230.75</td>\n",
              "      <td>234.00</td>\n",
              "      <td>233.30</td>\n",
              "      <td>3423509</td>\n",
              "      <td>7999.55</td>\n",
              "    </tr>\n",
              "    <tr>\n",
              "      <th>...</th>\n",
              "      <td>...</td>\n",
              "      <td>...</td>\n",
              "      <td>...</td>\n",
              "      <td>...</td>\n",
              "      <td>...</td>\n",
              "      <td>...</td>\n",
              "      <td>...</td>\n",
              "      <td>...</td>\n",
              "    </tr>\n",
              "    <tr>\n",
              "      <th>2030</th>\n",
              "      <td>2010-07-27</td>\n",
              "      <td>117.60</td>\n",
              "      <td>119.50</td>\n",
              "      <td>112.00</td>\n",
              "      <td>118.80</td>\n",
              "      <td>118.65</td>\n",
              "      <td>586100</td>\n",
              "      <td>694.98</td>\n",
              "    </tr>\n",
              "    <tr>\n",
              "      <th>2031</th>\n",
              "      <td>2010-07-26</td>\n",
              "      <td>120.10</td>\n",
              "      <td>121.00</td>\n",
              "      <td>117.10</td>\n",
              "      <td>117.10</td>\n",
              "      <td>117.60</td>\n",
              "      <td>658440</td>\n",
              "      <td>780.01</td>\n",
              "    </tr>\n",
              "    <tr>\n",
              "      <th>2032</th>\n",
              "      <td>2010-07-23</td>\n",
              "      <td>121.80</td>\n",
              "      <td>121.95</td>\n",
              "      <td>120.25</td>\n",
              "      <td>120.35</td>\n",
              "      <td>120.65</td>\n",
              "      <td>281312</td>\n",
              "      <td>340.31</td>\n",
              "    </tr>\n",
              "    <tr>\n",
              "      <th>2033</th>\n",
              "      <td>2010-07-22</td>\n",
              "      <td>120.30</td>\n",
              "      <td>122.00</td>\n",
              "      <td>120.25</td>\n",
              "      <td>120.75</td>\n",
              "      <td>120.90</td>\n",
              "      <td>293312</td>\n",
              "      <td>355.17</td>\n",
              "    </tr>\n",
              "    <tr>\n",
              "      <th>2034</th>\n",
              "      <td>2010-07-21</td>\n",
              "      <td>122.10</td>\n",
              "      <td>123.00</td>\n",
              "      <td>121.05</td>\n",
              "      <td>121.10</td>\n",
              "      <td>121.55</td>\n",
              "      <td>658666</td>\n",
              "      <td>803.56</td>\n",
              "    </tr>\n",
              "  </tbody>\n",
              "</table>\n",
              "<p>2035 rows × 8 columns</p>\n",
              "</div>\n",
              "      <button class=\"colab-df-convert\" onclick=\"convertToInteractive('df-58c4dc6f-9ff6-4c2a-9317-d29bd7ad6ea8')\"\n",
              "              title=\"Convert this dataframe to an interactive table.\"\n",
              "              style=\"display:none;\">\n",
              "        \n",
              "  <svg xmlns=\"http://www.w3.org/2000/svg\" height=\"24px\"viewBox=\"0 0 24 24\"\n",
              "       width=\"24px\">\n",
              "    <path d=\"M0 0h24v24H0V0z\" fill=\"none\"/>\n",
              "    <path d=\"M18.56 5.44l.94 2.06.94-2.06 2.06-.94-2.06-.94-.94-2.06-.94 2.06-2.06.94zm-11 1L8.5 8.5l.94-2.06 2.06-.94-2.06-.94L8.5 2.5l-.94 2.06-2.06.94zm10 10l.94 2.06.94-2.06 2.06-.94-2.06-.94-.94-2.06-.94 2.06-2.06.94z\"/><path d=\"M17.41 7.96l-1.37-1.37c-.4-.4-.92-.59-1.43-.59-.52 0-1.04.2-1.43.59L10.3 9.45l-7.72 7.72c-.78.78-.78 2.05 0 2.83L4 21.41c.39.39.9.59 1.41.59.51 0 1.02-.2 1.41-.59l7.78-7.78 2.81-2.81c.8-.78.8-2.07 0-2.86zM5.41 20L4 18.59l7.72-7.72 1.47 1.35L5.41 20z\"/>\n",
              "  </svg>\n",
              "      </button>\n",
              "      \n",
              "  <style>\n",
              "    .colab-df-container {\n",
              "      display:flex;\n",
              "      flex-wrap:wrap;\n",
              "      gap: 12px;\n",
              "    }\n",
              "\n",
              "    .colab-df-convert {\n",
              "      background-color: #E8F0FE;\n",
              "      border: none;\n",
              "      border-radius: 50%;\n",
              "      cursor: pointer;\n",
              "      display: none;\n",
              "      fill: #1967D2;\n",
              "      height: 32px;\n",
              "      padding: 0 0 0 0;\n",
              "      width: 32px;\n",
              "    }\n",
              "\n",
              "    .colab-df-convert:hover {\n",
              "      background-color: #E2EBFA;\n",
              "      box-shadow: 0px 1px 2px rgba(60, 64, 67, 0.3), 0px 1px 3px 1px rgba(60, 64, 67, 0.15);\n",
              "      fill: #174EA6;\n",
              "    }\n",
              "\n",
              "    [theme=dark] .colab-df-convert {\n",
              "      background-color: #3B4455;\n",
              "      fill: #D2E3FC;\n",
              "    }\n",
              "\n",
              "    [theme=dark] .colab-df-convert:hover {\n",
              "      background-color: #434B5C;\n",
              "      box-shadow: 0px 1px 3px 1px rgba(0, 0, 0, 0.15);\n",
              "      filter: drop-shadow(0px 1px 2px rgba(0, 0, 0, 0.3));\n",
              "      fill: #FFFFFF;\n",
              "    }\n",
              "  </style>\n",
              "\n",
              "      <script>\n",
              "        const buttonEl =\n",
              "          document.querySelector('#df-58c4dc6f-9ff6-4c2a-9317-d29bd7ad6ea8 button.colab-df-convert');\n",
              "        buttonEl.style.display =\n",
              "          google.colab.kernel.accessAllowed ? 'block' : 'none';\n",
              "\n",
              "        async function convertToInteractive(key) {\n",
              "          const element = document.querySelector('#df-58c4dc6f-9ff6-4c2a-9317-d29bd7ad6ea8');\n",
              "          const dataTable =\n",
              "            await google.colab.kernel.invokeFunction('convertToInteractive',\n",
              "                                                     [key], {});\n",
              "          if (!dataTable) return;\n",
              "\n",
              "          const docLinkHtml = 'Like what you see? Visit the ' +\n",
              "            '<a target=\"_blank\" href=https://colab.research.google.com/notebooks/data_table.ipynb>data table notebook</a>'\n",
              "            + ' to learn more about interactive tables.';\n",
              "          element.innerHTML = '';\n",
              "          dataTable['output_type'] = 'display_data';\n",
              "          await google.colab.output.renderOutput(dataTable, element);\n",
              "          const docLink = document.createElement('div');\n",
              "          docLink.innerHTML = docLinkHtml;\n",
              "          element.appendChild(docLink);\n",
              "        }\n",
              "      </script>\n",
              "    </div>\n",
              "  </div>\n",
              "  "
            ]
          },
          "metadata": {},
          "execution_count": 4
        }
      ]
    },
    {
      "cell_type": "code",
      "source": [
        "data.head(10)"
      ],
      "metadata": {
        "colab": {
          "base_uri": "https://localhost:8080/",
          "height": 363
        },
        "id": "aTUfj308NGuA",
        "outputId": "3cfe0aba-003c-4aa5-b6b1-acdeaa44defc"
      },
      "execution_count": 5,
      "outputs": [
        {
          "output_type": "execute_result",
          "data": {
            "text/plain": [
              "         Date    Open    High     Low    Last   Close  Total Trade Quantity  \\\n",
              "0  2018-09-28  234.05  235.95  230.20  233.50  233.75               3069914   \n",
              "1  2018-09-27  234.55  236.80  231.10  233.80  233.25               5082859   \n",
              "2  2018-09-26  240.00  240.00  232.50  235.00  234.25               2240909   \n",
              "3  2018-09-25  233.30  236.75  232.00  236.25  236.10               2349368   \n",
              "4  2018-09-24  233.55  239.20  230.75  234.00  233.30               3423509   \n",
              "5  2018-09-21  235.00  237.00  227.95  233.75  234.60               5395319   \n",
              "6  2018-09-19  235.95  237.20  233.45  234.60  234.90               1362058   \n",
              "7  2018-09-18  237.90  239.25  233.50  235.50  235.05               2614794   \n",
              "8  2018-09-17  233.15  238.00  230.25  236.40  236.60               3170894   \n",
              "9  2018-09-14  223.45  236.70  223.30  234.00  233.95               6377909   \n",
              "\n",
              "   Turnover (Lacs)  \n",
              "0          7162.35  \n",
              "1         11859.95  \n",
              "2          5248.60  \n",
              "3          5503.90  \n",
              "4          7999.55  \n",
              "5         12589.59  \n",
              "6          3202.78  \n",
              "7          6163.70  \n",
              "8          7445.41  \n",
              "9         14784.50  "
            ],
            "text/html": [
              "\n",
              "  <div id=\"df-568a8acc-6bb5-4af3-8e13-f7ab5fa2039f\">\n",
              "    <div class=\"colab-df-container\">\n",
              "      <div>\n",
              "<style scoped>\n",
              "    .dataframe tbody tr th:only-of-type {\n",
              "        vertical-align: middle;\n",
              "    }\n",
              "\n",
              "    .dataframe tbody tr th {\n",
              "        vertical-align: top;\n",
              "    }\n",
              "\n",
              "    .dataframe thead th {\n",
              "        text-align: right;\n",
              "    }\n",
              "</style>\n",
              "<table border=\"1\" class=\"dataframe\">\n",
              "  <thead>\n",
              "    <tr style=\"text-align: right;\">\n",
              "      <th></th>\n",
              "      <th>Date</th>\n",
              "      <th>Open</th>\n",
              "      <th>High</th>\n",
              "      <th>Low</th>\n",
              "      <th>Last</th>\n",
              "      <th>Close</th>\n",
              "      <th>Total Trade Quantity</th>\n",
              "      <th>Turnover (Lacs)</th>\n",
              "    </tr>\n",
              "  </thead>\n",
              "  <tbody>\n",
              "    <tr>\n",
              "      <th>0</th>\n",
              "      <td>2018-09-28</td>\n",
              "      <td>234.05</td>\n",
              "      <td>235.95</td>\n",
              "      <td>230.20</td>\n",
              "      <td>233.50</td>\n",
              "      <td>233.75</td>\n",
              "      <td>3069914</td>\n",
              "      <td>7162.35</td>\n",
              "    </tr>\n",
              "    <tr>\n",
              "      <th>1</th>\n",
              "      <td>2018-09-27</td>\n",
              "      <td>234.55</td>\n",
              "      <td>236.80</td>\n",
              "      <td>231.10</td>\n",
              "      <td>233.80</td>\n",
              "      <td>233.25</td>\n",
              "      <td>5082859</td>\n",
              "      <td>11859.95</td>\n",
              "    </tr>\n",
              "    <tr>\n",
              "      <th>2</th>\n",
              "      <td>2018-09-26</td>\n",
              "      <td>240.00</td>\n",
              "      <td>240.00</td>\n",
              "      <td>232.50</td>\n",
              "      <td>235.00</td>\n",
              "      <td>234.25</td>\n",
              "      <td>2240909</td>\n",
              "      <td>5248.60</td>\n",
              "    </tr>\n",
              "    <tr>\n",
              "      <th>3</th>\n",
              "      <td>2018-09-25</td>\n",
              "      <td>233.30</td>\n",
              "      <td>236.75</td>\n",
              "      <td>232.00</td>\n",
              "      <td>236.25</td>\n",
              "      <td>236.10</td>\n",
              "      <td>2349368</td>\n",
              "      <td>5503.90</td>\n",
              "    </tr>\n",
              "    <tr>\n",
              "      <th>4</th>\n",
              "      <td>2018-09-24</td>\n",
              "      <td>233.55</td>\n",
              "      <td>239.20</td>\n",
              "      <td>230.75</td>\n",
              "      <td>234.00</td>\n",
              "      <td>233.30</td>\n",
              "      <td>3423509</td>\n",
              "      <td>7999.55</td>\n",
              "    </tr>\n",
              "    <tr>\n",
              "      <th>5</th>\n",
              "      <td>2018-09-21</td>\n",
              "      <td>235.00</td>\n",
              "      <td>237.00</td>\n",
              "      <td>227.95</td>\n",
              "      <td>233.75</td>\n",
              "      <td>234.60</td>\n",
              "      <td>5395319</td>\n",
              "      <td>12589.59</td>\n",
              "    </tr>\n",
              "    <tr>\n",
              "      <th>6</th>\n",
              "      <td>2018-09-19</td>\n",
              "      <td>235.95</td>\n",
              "      <td>237.20</td>\n",
              "      <td>233.45</td>\n",
              "      <td>234.60</td>\n",
              "      <td>234.90</td>\n",
              "      <td>1362058</td>\n",
              "      <td>3202.78</td>\n",
              "    </tr>\n",
              "    <tr>\n",
              "      <th>7</th>\n",
              "      <td>2018-09-18</td>\n",
              "      <td>237.90</td>\n",
              "      <td>239.25</td>\n",
              "      <td>233.50</td>\n",
              "      <td>235.50</td>\n",
              "      <td>235.05</td>\n",
              "      <td>2614794</td>\n",
              "      <td>6163.70</td>\n",
              "    </tr>\n",
              "    <tr>\n",
              "      <th>8</th>\n",
              "      <td>2018-09-17</td>\n",
              "      <td>233.15</td>\n",
              "      <td>238.00</td>\n",
              "      <td>230.25</td>\n",
              "      <td>236.40</td>\n",
              "      <td>236.60</td>\n",
              "      <td>3170894</td>\n",
              "      <td>7445.41</td>\n",
              "    </tr>\n",
              "    <tr>\n",
              "      <th>9</th>\n",
              "      <td>2018-09-14</td>\n",
              "      <td>223.45</td>\n",
              "      <td>236.70</td>\n",
              "      <td>223.30</td>\n",
              "      <td>234.00</td>\n",
              "      <td>233.95</td>\n",
              "      <td>6377909</td>\n",
              "      <td>14784.50</td>\n",
              "    </tr>\n",
              "  </tbody>\n",
              "</table>\n",
              "</div>\n",
              "      <button class=\"colab-df-convert\" onclick=\"convertToInteractive('df-568a8acc-6bb5-4af3-8e13-f7ab5fa2039f')\"\n",
              "              title=\"Convert this dataframe to an interactive table.\"\n",
              "              style=\"display:none;\">\n",
              "        \n",
              "  <svg xmlns=\"http://www.w3.org/2000/svg\" height=\"24px\"viewBox=\"0 0 24 24\"\n",
              "       width=\"24px\">\n",
              "    <path d=\"M0 0h24v24H0V0z\" fill=\"none\"/>\n",
              "    <path d=\"M18.56 5.44l.94 2.06.94-2.06 2.06-.94-2.06-.94-.94-2.06-.94 2.06-2.06.94zm-11 1L8.5 8.5l.94-2.06 2.06-.94-2.06-.94L8.5 2.5l-.94 2.06-2.06.94zm10 10l.94 2.06.94-2.06 2.06-.94-2.06-.94-.94-2.06-.94 2.06-2.06.94z\"/><path d=\"M17.41 7.96l-1.37-1.37c-.4-.4-.92-.59-1.43-.59-.52 0-1.04.2-1.43.59L10.3 9.45l-7.72 7.72c-.78.78-.78 2.05 0 2.83L4 21.41c.39.39.9.59 1.41.59.51 0 1.02-.2 1.41-.59l7.78-7.78 2.81-2.81c.8-.78.8-2.07 0-2.86zM5.41 20L4 18.59l7.72-7.72 1.47 1.35L5.41 20z\"/>\n",
              "  </svg>\n",
              "      </button>\n",
              "      \n",
              "  <style>\n",
              "    .colab-df-container {\n",
              "      display:flex;\n",
              "      flex-wrap:wrap;\n",
              "      gap: 12px;\n",
              "    }\n",
              "\n",
              "    .colab-df-convert {\n",
              "      background-color: #E8F0FE;\n",
              "      border: none;\n",
              "      border-radius: 50%;\n",
              "      cursor: pointer;\n",
              "      display: none;\n",
              "      fill: #1967D2;\n",
              "      height: 32px;\n",
              "      padding: 0 0 0 0;\n",
              "      width: 32px;\n",
              "    }\n",
              "\n",
              "    .colab-df-convert:hover {\n",
              "      background-color: #E2EBFA;\n",
              "      box-shadow: 0px 1px 2px rgba(60, 64, 67, 0.3), 0px 1px 3px 1px rgba(60, 64, 67, 0.15);\n",
              "      fill: #174EA6;\n",
              "    }\n",
              "\n",
              "    [theme=dark] .colab-df-convert {\n",
              "      background-color: #3B4455;\n",
              "      fill: #D2E3FC;\n",
              "    }\n",
              "\n",
              "    [theme=dark] .colab-df-convert:hover {\n",
              "      background-color: #434B5C;\n",
              "      box-shadow: 0px 1px 3px 1px rgba(0, 0, 0, 0.15);\n",
              "      filter: drop-shadow(0px 1px 2px rgba(0, 0, 0, 0.3));\n",
              "      fill: #FFFFFF;\n",
              "    }\n",
              "  </style>\n",
              "\n",
              "      <script>\n",
              "        const buttonEl =\n",
              "          document.querySelector('#df-568a8acc-6bb5-4af3-8e13-f7ab5fa2039f button.colab-df-convert');\n",
              "        buttonEl.style.display =\n",
              "          google.colab.kernel.accessAllowed ? 'block' : 'none';\n",
              "\n",
              "        async function convertToInteractive(key) {\n",
              "          const element = document.querySelector('#df-568a8acc-6bb5-4af3-8e13-f7ab5fa2039f');\n",
              "          const dataTable =\n",
              "            await google.colab.kernel.invokeFunction('convertToInteractive',\n",
              "                                                     [key], {});\n",
              "          if (!dataTable) return;\n",
              "\n",
              "          const docLinkHtml = 'Like what you see? Visit the ' +\n",
              "            '<a target=\"_blank\" href=https://colab.research.google.com/notebooks/data_table.ipynb>data table notebook</a>'\n",
              "            + ' to learn more about interactive tables.';\n",
              "          element.innerHTML = '';\n",
              "          dataTable['output_type'] = 'display_data';\n",
              "          await google.colab.output.renderOutput(dataTable, element);\n",
              "          const docLink = document.createElement('div');\n",
              "          docLink.innerHTML = docLinkHtml;\n",
              "          element.appendChild(docLink);\n",
              "        }\n",
              "      </script>\n",
              "    </div>\n",
              "  </div>\n",
              "  "
            ]
          },
          "metadata": {},
          "execution_count": 5
        }
      ]
    },
    {
      "cell_type": "code",
      "source": [
        "data.info()"
      ],
      "metadata": {
        "colab": {
          "base_uri": "https://localhost:8080/"
        },
        "id": "1LKdrglDNGwe",
        "outputId": "937d004b-91b8-4400-da75-8b63a9db08cc"
      },
      "execution_count": 6,
      "outputs": [
        {
          "output_type": "stream",
          "name": "stdout",
          "text": [
            "<class 'pandas.core.frame.DataFrame'>\n",
            "RangeIndex: 2035 entries, 0 to 2034\n",
            "Data columns (total 8 columns):\n",
            " #   Column                Non-Null Count  Dtype  \n",
            "---  ------                --------------  -----  \n",
            " 0   Date                  2035 non-null   object \n",
            " 1   Open                  2035 non-null   float64\n",
            " 2   High                  2035 non-null   float64\n",
            " 3   Low                   2035 non-null   float64\n",
            " 4   Last                  2035 non-null   float64\n",
            " 5   Close                 2035 non-null   float64\n",
            " 6   Total Trade Quantity  2035 non-null   int64  \n",
            " 7   Turnover (Lacs)       2035 non-null   float64\n",
            "dtypes: float64(6), int64(1), object(1)\n",
            "memory usage: 127.3+ KB\n"
          ]
        }
      ]
    },
    {
      "cell_type": "code",
      "source": [
        "data.describe()"
      ],
      "metadata": {
        "colab": {
          "base_uri": "https://localhost:8080/",
          "height": 300
        },
        "id": "pWNL0up7NGzQ",
        "outputId": "30e6f26a-2eb2-412e-bfb5-488fab56528e"
      },
      "execution_count": 7,
      "outputs": [
        {
          "output_type": "execute_result",
          "data": {
            "text/plain": [
              "              Open         High          Low         Last       Close  \\\n",
              "count  2035.000000  2035.000000  2035.000000  2035.000000  2035.00000   \n",
              "mean    149.713735   151.992826   147.293931   149.474251   149.45027   \n",
              "std      48.664509    49.413109    47.931958    48.732570    48.71204   \n",
              "min      81.100000    82.800000    80.000000    81.000000    80.95000   \n",
              "25%     120.025000   122.100000   118.300000   120.075000   120.05000   \n",
              "50%     141.500000   143.400000   139.600000   141.100000   141.25000   \n",
              "75%     157.175000   159.400000   155.150000   156.925000   156.90000   \n",
              "max     327.700000   328.750000   321.650000   325.950000   325.75000   \n",
              "\n",
              "       Total Trade Quantity  Turnover (Lacs)  \n",
              "count          2.035000e+03      2035.000000  \n",
              "mean           2.335681e+06      3899.980565  \n",
              "std            2.091778e+06      4570.767877  \n",
              "min            3.961000e+04        37.040000  \n",
              "25%            1.146444e+06      1427.460000  \n",
              "50%            1.783456e+06      2512.030000  \n",
              "75%            2.813594e+06      4539.015000  \n",
              "max            2.919102e+07     55755.080000  "
            ],
            "text/html": [
              "\n",
              "  <div id=\"df-e5b3f7d3-c96b-4766-85fa-2869a94a888b\">\n",
              "    <div class=\"colab-df-container\">\n",
              "      <div>\n",
              "<style scoped>\n",
              "    .dataframe tbody tr th:only-of-type {\n",
              "        vertical-align: middle;\n",
              "    }\n",
              "\n",
              "    .dataframe tbody tr th {\n",
              "        vertical-align: top;\n",
              "    }\n",
              "\n",
              "    .dataframe thead th {\n",
              "        text-align: right;\n",
              "    }\n",
              "</style>\n",
              "<table border=\"1\" class=\"dataframe\">\n",
              "  <thead>\n",
              "    <tr style=\"text-align: right;\">\n",
              "      <th></th>\n",
              "      <th>Open</th>\n",
              "      <th>High</th>\n",
              "      <th>Low</th>\n",
              "      <th>Last</th>\n",
              "      <th>Close</th>\n",
              "      <th>Total Trade Quantity</th>\n",
              "      <th>Turnover (Lacs)</th>\n",
              "    </tr>\n",
              "  </thead>\n",
              "  <tbody>\n",
              "    <tr>\n",
              "      <th>count</th>\n",
              "      <td>2035.000000</td>\n",
              "      <td>2035.000000</td>\n",
              "      <td>2035.000000</td>\n",
              "      <td>2035.000000</td>\n",
              "      <td>2035.00000</td>\n",
              "      <td>2.035000e+03</td>\n",
              "      <td>2035.000000</td>\n",
              "    </tr>\n",
              "    <tr>\n",
              "      <th>mean</th>\n",
              "      <td>149.713735</td>\n",
              "      <td>151.992826</td>\n",
              "      <td>147.293931</td>\n",
              "      <td>149.474251</td>\n",
              "      <td>149.45027</td>\n",
              "      <td>2.335681e+06</td>\n",
              "      <td>3899.980565</td>\n",
              "    </tr>\n",
              "    <tr>\n",
              "      <th>std</th>\n",
              "      <td>48.664509</td>\n",
              "      <td>49.413109</td>\n",
              "      <td>47.931958</td>\n",
              "      <td>48.732570</td>\n",
              "      <td>48.71204</td>\n",
              "      <td>2.091778e+06</td>\n",
              "      <td>4570.767877</td>\n",
              "    </tr>\n",
              "    <tr>\n",
              "      <th>min</th>\n",
              "      <td>81.100000</td>\n",
              "      <td>82.800000</td>\n",
              "      <td>80.000000</td>\n",
              "      <td>81.000000</td>\n",
              "      <td>80.95000</td>\n",
              "      <td>3.961000e+04</td>\n",
              "      <td>37.040000</td>\n",
              "    </tr>\n",
              "    <tr>\n",
              "      <th>25%</th>\n",
              "      <td>120.025000</td>\n",
              "      <td>122.100000</td>\n",
              "      <td>118.300000</td>\n",
              "      <td>120.075000</td>\n",
              "      <td>120.05000</td>\n",
              "      <td>1.146444e+06</td>\n",
              "      <td>1427.460000</td>\n",
              "    </tr>\n",
              "    <tr>\n",
              "      <th>50%</th>\n",
              "      <td>141.500000</td>\n",
              "      <td>143.400000</td>\n",
              "      <td>139.600000</td>\n",
              "      <td>141.100000</td>\n",
              "      <td>141.25000</td>\n",
              "      <td>1.783456e+06</td>\n",
              "      <td>2512.030000</td>\n",
              "    </tr>\n",
              "    <tr>\n",
              "      <th>75%</th>\n",
              "      <td>157.175000</td>\n",
              "      <td>159.400000</td>\n",
              "      <td>155.150000</td>\n",
              "      <td>156.925000</td>\n",
              "      <td>156.90000</td>\n",
              "      <td>2.813594e+06</td>\n",
              "      <td>4539.015000</td>\n",
              "    </tr>\n",
              "    <tr>\n",
              "      <th>max</th>\n",
              "      <td>327.700000</td>\n",
              "      <td>328.750000</td>\n",
              "      <td>321.650000</td>\n",
              "      <td>325.950000</td>\n",
              "      <td>325.75000</td>\n",
              "      <td>2.919102e+07</td>\n",
              "      <td>55755.080000</td>\n",
              "    </tr>\n",
              "  </tbody>\n",
              "</table>\n",
              "</div>\n",
              "      <button class=\"colab-df-convert\" onclick=\"convertToInteractive('df-e5b3f7d3-c96b-4766-85fa-2869a94a888b')\"\n",
              "              title=\"Convert this dataframe to an interactive table.\"\n",
              "              style=\"display:none;\">\n",
              "        \n",
              "  <svg xmlns=\"http://www.w3.org/2000/svg\" height=\"24px\"viewBox=\"0 0 24 24\"\n",
              "       width=\"24px\">\n",
              "    <path d=\"M0 0h24v24H0V0z\" fill=\"none\"/>\n",
              "    <path d=\"M18.56 5.44l.94 2.06.94-2.06 2.06-.94-2.06-.94-.94-2.06-.94 2.06-2.06.94zm-11 1L8.5 8.5l.94-2.06 2.06-.94-2.06-.94L8.5 2.5l-.94 2.06-2.06.94zm10 10l.94 2.06.94-2.06 2.06-.94-2.06-.94-.94-2.06-.94 2.06-2.06.94z\"/><path d=\"M17.41 7.96l-1.37-1.37c-.4-.4-.92-.59-1.43-.59-.52 0-1.04.2-1.43.59L10.3 9.45l-7.72 7.72c-.78.78-.78 2.05 0 2.83L4 21.41c.39.39.9.59 1.41.59.51 0 1.02-.2 1.41-.59l7.78-7.78 2.81-2.81c.8-.78.8-2.07 0-2.86zM5.41 20L4 18.59l7.72-7.72 1.47 1.35L5.41 20z\"/>\n",
              "  </svg>\n",
              "      </button>\n",
              "      \n",
              "  <style>\n",
              "    .colab-df-container {\n",
              "      display:flex;\n",
              "      flex-wrap:wrap;\n",
              "      gap: 12px;\n",
              "    }\n",
              "\n",
              "    .colab-df-convert {\n",
              "      background-color: #E8F0FE;\n",
              "      border: none;\n",
              "      border-radius: 50%;\n",
              "      cursor: pointer;\n",
              "      display: none;\n",
              "      fill: #1967D2;\n",
              "      height: 32px;\n",
              "      padding: 0 0 0 0;\n",
              "      width: 32px;\n",
              "    }\n",
              "\n",
              "    .colab-df-convert:hover {\n",
              "      background-color: #E2EBFA;\n",
              "      box-shadow: 0px 1px 2px rgba(60, 64, 67, 0.3), 0px 1px 3px 1px rgba(60, 64, 67, 0.15);\n",
              "      fill: #174EA6;\n",
              "    }\n",
              "\n",
              "    [theme=dark] .colab-df-convert {\n",
              "      background-color: #3B4455;\n",
              "      fill: #D2E3FC;\n",
              "    }\n",
              "\n",
              "    [theme=dark] .colab-df-convert:hover {\n",
              "      background-color: #434B5C;\n",
              "      box-shadow: 0px 1px 3px 1px rgba(0, 0, 0, 0.15);\n",
              "      filter: drop-shadow(0px 1px 2px rgba(0, 0, 0, 0.3));\n",
              "      fill: #FFFFFF;\n",
              "    }\n",
              "  </style>\n",
              "\n",
              "      <script>\n",
              "        const buttonEl =\n",
              "          document.querySelector('#df-e5b3f7d3-c96b-4766-85fa-2869a94a888b button.colab-df-convert');\n",
              "        buttonEl.style.display =\n",
              "          google.colab.kernel.accessAllowed ? 'block' : 'none';\n",
              "\n",
              "        async function convertToInteractive(key) {\n",
              "          const element = document.querySelector('#df-e5b3f7d3-c96b-4766-85fa-2869a94a888b');\n",
              "          const dataTable =\n",
              "            await google.colab.kernel.invokeFunction('convertToInteractive',\n",
              "                                                     [key], {});\n",
              "          if (!dataTable) return;\n",
              "\n",
              "          const docLinkHtml = 'Like what you see? Visit the ' +\n",
              "            '<a target=\"_blank\" href=https://colab.research.google.com/notebooks/data_table.ipynb>data table notebook</a>'\n",
              "            + ' to learn more about interactive tables.';\n",
              "          element.innerHTML = '';\n",
              "          dataTable['output_type'] = 'display_data';\n",
              "          await google.colab.output.renderOutput(dataTable, element);\n",
              "          const docLink = document.createElement('div');\n",
              "          docLink.innerHTML = docLinkHtml;\n",
              "          element.appendChild(docLink);\n",
              "        }\n",
              "      </script>\n",
              "    </div>\n",
              "  </div>\n",
              "  "
            ]
          },
          "metadata": {},
          "execution_count": 7
        }
      ]
    },
    {
      "cell_type": "code",
      "source": [
        "data.isnull().sum()"
      ],
      "metadata": {
        "colab": {
          "base_uri": "https://localhost:8080/"
        },
        "id": "e2UEiTBGNG1i",
        "outputId": "aba414f8-5221-4cf1-c814-919640ee1ed6"
      },
      "execution_count": 8,
      "outputs": [
        {
          "output_type": "execute_result",
          "data": {
            "text/plain": [
              "Date                    0\n",
              "Open                    0\n",
              "High                    0\n",
              "Low                     0\n",
              "Last                    0\n",
              "Close                   0\n",
              "Total Trade Quantity    0\n",
              "Turnover (Lacs)         0\n",
              "dtype: int64"
            ]
          },
          "metadata": {},
          "execution_count": 8
        }
      ]
    },
    {
      "cell_type": "code",
      "source": [
        "data.columns"
      ],
      "metadata": {
        "colab": {
          "base_uri": "https://localhost:8080/"
        },
        "id": "PXscehpbNG4J",
        "outputId": "13927241-9917-4360-d32a-36e85d96071f"
      },
      "execution_count": 9,
      "outputs": [
        {
          "output_type": "execute_result",
          "data": {
            "text/plain": [
              "Index(['Date', 'Open', 'High', 'Low', 'Last', 'Close', 'Total Trade Quantity',\n",
              "       'Turnover (Lacs)'],\n",
              "      dtype='object')"
            ]
          },
          "metadata": {},
          "execution_count": 9
        }
      ]
    },
    {
      "cell_type": "code",
      "source": [
        "data.corr()"
      ],
      "metadata": {
        "colab": {
          "base_uri": "https://localhost:8080/",
          "height": 269
        },
        "id": "N4mKpezQNG55",
        "outputId": "7ac674a4-0c13-4fb7-f057-d0f44738dd11"
      },
      "execution_count": 10,
      "outputs": [
        {
          "output_type": "execute_result",
          "data": {
            "text/plain": [
              "                          Open      High       Low      Last     Close  \\\n",
              "Open                  1.000000  0.999015  0.998825  0.997781  0.997840   \n",
              "High                  0.999015  1.000000  0.998773  0.999155  0.999194   \n",
              "Low                   0.998825  0.998773  1.000000  0.999051  0.999119   \n",
              "Last                  0.997781  0.999155  0.999051  1.000000  0.999961   \n",
              "Close                 0.997840  0.999194  0.999119  0.999961  1.000000   \n",
              "Total Trade Quantity  0.385951  0.406405  0.380621  0.399328  0.398911   \n",
              "Turnover (Lacs)       0.612877  0.630589  0.608502  0.624584  0.624213   \n",
              "\n",
              "                      Total Trade Quantity  Turnover (Lacs)  \n",
              "Open                              0.385951         0.612877  \n",
              "High                              0.406405         0.630589  \n",
              "Low                               0.380621         0.608502  \n",
              "Last                              0.399328         0.624584  \n",
              "Close                             0.398911         0.624213  \n",
              "Total Trade Quantity              1.000000         0.926931  \n",
              "Turnover (Lacs)                   0.926931         1.000000  "
            ],
            "text/html": [
              "\n",
              "  <div id=\"df-99895183-07dc-4b3f-84c9-966eb9b0b428\">\n",
              "    <div class=\"colab-df-container\">\n",
              "      <div>\n",
              "<style scoped>\n",
              "    .dataframe tbody tr th:only-of-type {\n",
              "        vertical-align: middle;\n",
              "    }\n",
              "\n",
              "    .dataframe tbody tr th {\n",
              "        vertical-align: top;\n",
              "    }\n",
              "\n",
              "    .dataframe thead th {\n",
              "        text-align: right;\n",
              "    }\n",
              "</style>\n",
              "<table border=\"1\" class=\"dataframe\">\n",
              "  <thead>\n",
              "    <tr style=\"text-align: right;\">\n",
              "      <th></th>\n",
              "      <th>Open</th>\n",
              "      <th>High</th>\n",
              "      <th>Low</th>\n",
              "      <th>Last</th>\n",
              "      <th>Close</th>\n",
              "      <th>Total Trade Quantity</th>\n",
              "      <th>Turnover (Lacs)</th>\n",
              "    </tr>\n",
              "  </thead>\n",
              "  <tbody>\n",
              "    <tr>\n",
              "      <th>Open</th>\n",
              "      <td>1.000000</td>\n",
              "      <td>0.999015</td>\n",
              "      <td>0.998825</td>\n",
              "      <td>0.997781</td>\n",
              "      <td>0.997840</td>\n",
              "      <td>0.385951</td>\n",
              "      <td>0.612877</td>\n",
              "    </tr>\n",
              "    <tr>\n",
              "      <th>High</th>\n",
              "      <td>0.999015</td>\n",
              "      <td>1.000000</td>\n",
              "      <td>0.998773</td>\n",
              "      <td>0.999155</td>\n",
              "      <td>0.999194</td>\n",
              "      <td>0.406405</td>\n",
              "      <td>0.630589</td>\n",
              "    </tr>\n",
              "    <tr>\n",
              "      <th>Low</th>\n",
              "      <td>0.998825</td>\n",
              "      <td>0.998773</td>\n",
              "      <td>1.000000</td>\n",
              "      <td>0.999051</td>\n",
              "      <td>0.999119</td>\n",
              "      <td>0.380621</td>\n",
              "      <td>0.608502</td>\n",
              "    </tr>\n",
              "    <tr>\n",
              "      <th>Last</th>\n",
              "      <td>0.997781</td>\n",
              "      <td>0.999155</td>\n",
              "      <td>0.999051</td>\n",
              "      <td>1.000000</td>\n",
              "      <td>0.999961</td>\n",
              "      <td>0.399328</td>\n",
              "      <td>0.624584</td>\n",
              "    </tr>\n",
              "    <tr>\n",
              "      <th>Close</th>\n",
              "      <td>0.997840</td>\n",
              "      <td>0.999194</td>\n",
              "      <td>0.999119</td>\n",
              "      <td>0.999961</td>\n",
              "      <td>1.000000</td>\n",
              "      <td>0.398911</td>\n",
              "      <td>0.624213</td>\n",
              "    </tr>\n",
              "    <tr>\n",
              "      <th>Total Trade Quantity</th>\n",
              "      <td>0.385951</td>\n",
              "      <td>0.406405</td>\n",
              "      <td>0.380621</td>\n",
              "      <td>0.399328</td>\n",
              "      <td>0.398911</td>\n",
              "      <td>1.000000</td>\n",
              "      <td>0.926931</td>\n",
              "    </tr>\n",
              "    <tr>\n",
              "      <th>Turnover (Lacs)</th>\n",
              "      <td>0.612877</td>\n",
              "      <td>0.630589</td>\n",
              "      <td>0.608502</td>\n",
              "      <td>0.624584</td>\n",
              "      <td>0.624213</td>\n",
              "      <td>0.926931</td>\n",
              "      <td>1.000000</td>\n",
              "    </tr>\n",
              "  </tbody>\n",
              "</table>\n",
              "</div>\n",
              "      <button class=\"colab-df-convert\" onclick=\"convertToInteractive('df-99895183-07dc-4b3f-84c9-966eb9b0b428')\"\n",
              "              title=\"Convert this dataframe to an interactive table.\"\n",
              "              style=\"display:none;\">\n",
              "        \n",
              "  <svg xmlns=\"http://www.w3.org/2000/svg\" height=\"24px\"viewBox=\"0 0 24 24\"\n",
              "       width=\"24px\">\n",
              "    <path d=\"M0 0h24v24H0V0z\" fill=\"none\"/>\n",
              "    <path d=\"M18.56 5.44l.94 2.06.94-2.06 2.06-.94-2.06-.94-.94-2.06-.94 2.06-2.06.94zm-11 1L8.5 8.5l.94-2.06 2.06-.94-2.06-.94L8.5 2.5l-.94 2.06-2.06.94zm10 10l.94 2.06.94-2.06 2.06-.94-2.06-.94-.94-2.06-.94 2.06-2.06.94z\"/><path d=\"M17.41 7.96l-1.37-1.37c-.4-.4-.92-.59-1.43-.59-.52 0-1.04.2-1.43.59L10.3 9.45l-7.72 7.72c-.78.78-.78 2.05 0 2.83L4 21.41c.39.39.9.59 1.41.59.51 0 1.02-.2 1.41-.59l7.78-7.78 2.81-2.81c.8-.78.8-2.07 0-2.86zM5.41 20L4 18.59l7.72-7.72 1.47 1.35L5.41 20z\"/>\n",
              "  </svg>\n",
              "      </button>\n",
              "      \n",
              "  <style>\n",
              "    .colab-df-container {\n",
              "      display:flex;\n",
              "      flex-wrap:wrap;\n",
              "      gap: 12px;\n",
              "    }\n",
              "\n",
              "    .colab-df-convert {\n",
              "      background-color: #E8F0FE;\n",
              "      border: none;\n",
              "      border-radius: 50%;\n",
              "      cursor: pointer;\n",
              "      display: none;\n",
              "      fill: #1967D2;\n",
              "      height: 32px;\n",
              "      padding: 0 0 0 0;\n",
              "      width: 32px;\n",
              "    }\n",
              "\n",
              "    .colab-df-convert:hover {\n",
              "      background-color: #E2EBFA;\n",
              "      box-shadow: 0px 1px 2px rgba(60, 64, 67, 0.3), 0px 1px 3px 1px rgba(60, 64, 67, 0.15);\n",
              "      fill: #174EA6;\n",
              "    }\n",
              "\n",
              "    [theme=dark] .colab-df-convert {\n",
              "      background-color: #3B4455;\n",
              "      fill: #D2E3FC;\n",
              "    }\n",
              "\n",
              "    [theme=dark] .colab-df-convert:hover {\n",
              "      background-color: #434B5C;\n",
              "      box-shadow: 0px 1px 3px 1px rgba(0, 0, 0, 0.15);\n",
              "      filter: drop-shadow(0px 1px 2px rgba(0, 0, 0, 0.3));\n",
              "      fill: #FFFFFF;\n",
              "    }\n",
              "  </style>\n",
              "\n",
              "      <script>\n",
              "        const buttonEl =\n",
              "          document.querySelector('#df-99895183-07dc-4b3f-84c9-966eb9b0b428 button.colab-df-convert');\n",
              "        buttonEl.style.display =\n",
              "          google.colab.kernel.accessAllowed ? 'block' : 'none';\n",
              "\n",
              "        async function convertToInteractive(key) {\n",
              "          const element = document.querySelector('#df-99895183-07dc-4b3f-84c9-966eb9b0b428');\n",
              "          const dataTable =\n",
              "            await google.colab.kernel.invokeFunction('convertToInteractive',\n",
              "                                                     [key], {});\n",
              "          if (!dataTable) return;\n",
              "\n",
              "          const docLinkHtml = 'Like what you see? Visit the ' +\n",
              "            '<a target=\"_blank\" href=https://colab.research.google.com/notebooks/data_table.ipynb>data table notebook</a>'\n",
              "            + ' to learn more about interactive tables.';\n",
              "          element.innerHTML = '';\n",
              "          dataTable['output_type'] = 'display_data';\n",
              "          await google.colab.output.renderOutput(dataTable, element);\n",
              "          const docLink = document.createElement('div');\n",
              "          docLink.innerHTML = docLinkHtml;\n",
              "          element.appendChild(docLink);\n",
              "        }\n",
              "      </script>\n",
              "    </div>\n",
              "  </div>\n",
              "  "
            ]
          },
          "metadata": {},
          "execution_count": 10
        }
      ]
    },
    {
      "cell_type": "code",
      "source": [
        "plt.figure(figsize=(10,6))\n",
        "data['Close'].plot(kind='line',figsize=(16,7),c='b',label='closing price')\n",
        "\n",
        "plt.ylabel(\"'Price\")\n",
        "plt.legend(loc=\"upper right\")\n",
        "plt.title(\"Closing Price Changes over time\")\n",
        "plt.grid()"
      ],
      "metadata": {
        "colab": {
          "base_uri": "https://localhost:8080/",
          "height": 447
        },
        "id": "sCCvhER9NG8u",
        "outputId": "5b49b137-932d-42a7-a48b-226da2910515"
      },
      "execution_count": 12,
      "outputs": [
        {
          "output_type": "display_data",
          "data": {
            "text/plain": [
              "<Figure size 1152x504 with 1 Axes>"
            ],
            "image/png": "[encoded data removed]"
          },
          "metadata": {}
        }
      ]
    },
    {
      "cell_type": "code",
      "source": [
        "plt.figure(figsize=(10,6))\n",
        "data[\"Open\"].plot(kind='line',figsize=(16,7),c='g',label=\"Opening Price\")\n",
        "\n",
        "plt.ylabel(\"Price\")\n",
        "plt.legend(loc=\"upper left\")\n",
        "plt.title(\"Opening Price Changes over time\")\n",
        "plt.grid()"
      ],
      "metadata": {
        "colab": {
          "base_uri": "https://localhost:8080/",
          "height": 447
        },
        "id": "yRuTjJqrOCF1",
        "outputId": "3b46e5dd-3465-4a96-fec1-35ff55b8cf14"
      },
      "execution_count": 13,
      "outputs": [
        {
          "output_type": "display_data",
          "data": {
            "text/plain": [
              "<Figure size 1152x504 with 1 Axes>"
            ],
            "image/png": "[encoded data removed]"
          },
          "metadata": {}
        }
      ]
    },
    {
      "cell_type": "code",
      "source": [
        "df_close=data['Close']\n",
        "df_close"
      ],
      "metadata": {
        "colab": {
          "base_uri": "https://localhost:8080/"
        },
        "id": "jofEZ-UmOCId",
        "outputId": "681cfd76-dfe1-45eb-a03f-de41a13f7034"
      },
      "execution_count": 14,
      "outputs": [
        {
          "output_type": "execute_result",
          "data": {
            "text/plain": [
              "0       233.75\n",
              "1       233.25\n",
              "2       234.25\n",
              "3       236.10\n",
              "4       233.30\n",
              "         ...  \n",
              "2030    118.65\n",
              "2031    117.60\n",
              "2032    120.65\n",
              "2033    120.90\n",
              "2034    121.55\n",
              "Name: Close, Length: 2035, dtype: float64"
            ]
          },
          "metadata": {},
          "execution_count": 14
        }
      ]
    },
    {
      "cell_type": "code",
      "source": [
        "training_set=data['Open']\n",
        "training_set"
      ],
      "metadata": {
        "colab": {
          "base_uri": "https://localhost:8080/"
        },
        "id": "hdXAOInvOCLh",
        "outputId": "defd230f-b848-45af-8b26-27e8d2439462"
      },
      "execution_count": 15,
      "outputs": [
        {
          "output_type": "execute_result",
          "data": {
            "text/plain": [
              "0       234.05\n",
              "1       234.55\n",
              "2       240.00\n",
              "3       233.30\n",
              "4       233.55\n",
              "         ...  \n",
              "2030    117.60\n",
              "2031    120.10\n",
              "2032    121.80\n",
              "2033    120.30\n",
              "2034    122.10\n",
              "Name: Open, Length: 2035, dtype: float64"
            ]
          },
          "metadata": {},
          "execution_count": 15
        }
      ]
    },
    {
      "cell_type": "code",
      "source": [
        "scaler=MinMaxScaler(feature_range=(0,1))\n",
        "training_set=scaler.fit_transform(np.array(df_close).reshape(-1,1))\n",
        "training_set"
      ],
      "metadata": {
        "colab": {
          "base_uri": "https://localhost:8080/"
        },
        "id": "xqYwjhdtOCNo",
        "outputId": "1301abdd-3625-4de3-bc2a-96e98c9ff67f"
      },
      "execution_count": 16,
      "outputs": [
        {
          "output_type": "execute_result",
          "data": {
            "text/plain": [
              "array([[0.62418301],\n",
              "       [0.62214052],\n",
              "       [0.62622549],\n",
              "       ...,\n",
              "       [0.1621732 ],\n",
              "       [0.16319444],\n",
              "       [0.16584967]])"
            ]
          },
          "metadata": {},
          "execution_count": 16
        }
      ]
    },
    {
      "cell_type": "code",
      "source": [
        "train_size=int(len(training_set)*0.75)\n",
        "test_size=int(len(training_set))-train_size\n",
        "train_data,test_data=training_set[0:train_size,:],training_set[train_size:len(data),:1]\n",
        "train_size"
      ],
      "metadata": {
        "colab": {
          "base_uri": "https://localhost:8080/"
        },
        "id": "z03t_eSrOCQ2",
        "outputId": "33f8ff86-6c9c-46cc-8e0a-c9b6fb25eee1"
      },
      "execution_count": 17,
      "outputs": [
        {
          "output_type": "execute_result",
          "data": {
            "text/plain": [
              "1526"
            ]
          },
          "metadata": {},
          "execution_count": 17
        }
      ]
    },
    {
      "cell_type": "code",
      "source": [
        "def create_dataset(dataset,time_step=1):\n",
        "  datax=[]\n",
        "  datay=[]\n",
        "  for i in range(len(dataset)-time_step-1):\n",
        "    a=dataset[i:(i+time_step),0]\n",
        "    datax.append(a)\n",
        "    datay.append(dataset[i+time_step,0])\n",
        "  return np.array(datax),np.array(datay)"
      ],
      "metadata": {
        "id": "KKwpSLCuOCUI"
      },
      "execution_count": 18,
      "outputs": []
    },
    {
      "cell_type": "code",
      "source": [
        "time_step=100\n",
        "x_train,y_train=create_dataset(train_data,time_step)\n",
        "x_test,y_test=create_dataset(test_data,time_step)"
      ],
      "metadata": {
        "id": "sNI7FEicNG_t"
      },
      "execution_count": 19,
      "outputs": []
    },
    {
      "cell_type": "code",
      "source": [
        "print(x_train.shape,y_train.shape)"
      ],
      "metadata": {
        "colab": {
          "base_uri": "https://localhost:8080/"
        },
        "id": "0OT_MWGoNHCU",
        "outputId": "71fc6f25-1388-49e4-b110-21e716db8bdf"
      },
      "execution_count": 20,
      "outputs": [
        {
          "output_type": "stream",
          "name": "stdout",
          "text": [
            "(1425, 100) (1425,)\n"
          ]
        }
      ]
    },
    {
      "cell_type": "code",
      "source": [
        "print(x_test.shape,y_test.shape)"
      ],
      "metadata": {
        "colab": {
          "base_uri": "https://localhost:8080/"
        },
        "id": "rgsFeRirPL81",
        "outputId": "9b589b99-783a-4928-b6f3-9915befb5af2"
      },
      "execution_count": 21,
      "outputs": [
        {
          "output_type": "stream",
          "name": "stdout",
          "text": [
            "(408, 100) (408,)\n"
          ]
        }
      ]
    },
    {
      "cell_type": "code",
      "source": [
        "x_train=x_train.reshape(x_train.shape[0],x_train.shape[1],1)\n",
        "x_test=x_test.reshape(x_test.shape[0],x_test.shape[1],1)\n",
        "print(x_train.shape)\n",
        "print(y_train.shape)"
      ],
      "metadata": {
        "colab": {
          "base_uri": "https://localhost:8080/"
        },
        "id": "wMllDfV1PMCO",
        "outputId": "18e5b811-5f5a-42cd-e5aa-6c4eedf098b4"
      },
      "execution_count": 22,
      "outputs": [
        {
          "output_type": "stream",
          "name": "stdout",
          "text": [
            "(1425, 100, 1)\n",
            "(1425,)\n"
          ]
        }
      ]
    },
    {
      "cell_type": "code",
      "source": [
        "model=Sequential()\n",
        "model.add(LSTM(50,return_sequences=True,input_shape=(100,1)))\n",
        "model.add(LSTM(50))\n",
        "model.add(Dense(1))\n",
        "model.compile(loss=\"mean_squared_error\",optimizer=\"adam\",metrics=\"acc\")"
      ],
      "metadata": {
        "id": "iY-8RX9YPME_"
      },
      "execution_count": 23,
      "outputs": []
    },
    {
      "cell_type": "code",
      "source": [
        "\n",
        "model.summary()\n"
      ],
      "metadata": {
        "colab": {
          "base_uri": "https://localhost:8080/"
        },
        "id": "KQewpArvPMH2",
        "outputId": "28d8937b-6992-4a3c-dfe5-537d4d4ff3ba"
      },
      "execution_count": 24,
      "outputs": [
        {
          "output_type": "stream",
          "name": "stdout",
          "text": [
            "Model: \"sequential\"\n",
            "_________________________________________________________________\n",
            " Layer (type)                Output Shape              Param #   \n",
            "=================================================================\n",
            " lstm (LSTM)                 (None, 100, 50)           10400     \n",
            "                                                                 \n",
            " lstm_1 (LSTM)               (None, 50)                20200     \n",
            "                                                                 \n",
            " dense (Dense)               (None, 1)                 51        \n",
            "                                                                 \n",
            "=================================================================\n",
            "Total params: 30,651\n",
            "Trainable params: 30,651\n",
            "Non-trainable params: 0\n",
            "_________________________________________________________________\n"
          ]
        }
      ]
    },
    {
      "cell_type": "code",
      "source": [
        "\n",
        "model.fit(x_train,y_train,validation_data=(x_test,y_test),epochs=100,batch_size=64,verbose=1)"
      ],
      "metadata": {
        "colab": {
          "base_uri": "https://localhost:8080/"
        },
        "id": "wv-YQOewPMKc",
        "outputId": "e68d7295-8add-42c2-970e-f01a139c336e"
      },
      "execution_count": 25,
      "outputs": [
        {
          "output_type": "stream",
          "name": "stdout",
          "text": [
            "Epoch 1/100\n",
            "23/23 [==============================] - 10s 195ms/step - loss: 0.0309 - acc: 7.0175e-04 - val_loss: 0.0017 - val_acc: 0.0025\n",
            "Epoch 2/100\n",
            "23/23 [==============================] - 3s 139ms/step - loss: 0.0023 - acc: 7.0175e-04 - val_loss: 7.5484e-04 - val_acc: 0.0025\n",
            "Epoch 3/100\n",
            "23/23 [==============================] - 5s 205ms/step - loss: 0.0012 - acc: 7.0175e-04 - val_loss: 6.1260e-04 - val_acc: 0.0025\n",
            "Epoch 4/100\n",
            "23/23 [==============================] - 3s 142ms/step - loss: 0.0010 - acc: 7.0175e-04 - val_loss: 7.4831e-04 - val_acc: 0.0025\n",
            "Epoch 5/100\n",
            "23/23 [==============================] - 4s 154ms/step - loss: 9.9908e-04 - acc: 7.0175e-04 - val_loss: 7.3020e-04 - val_acc: 0.0025\n",
            "Epoch 6/100\n",
            "23/23 [==============================] - 5s 225ms/step - loss: 9.6436e-04 - acc: 7.0175e-04 - val_loss: 7.3665e-04 - val_acc: 0.0025\n",
            "Epoch 7/100\n",
            "23/23 [==============================] - 4s 156ms/step - loss: 9.4330e-04 - acc: 7.0175e-04 - val_loss: 7.9345e-04 - val_acc: 0.0025\n",
            "Epoch 8/100\n",
            "23/23 [==============================] - 4s 192ms/step - loss: 8.9062e-04 - acc: 7.0175e-04 - val_loss: 7.7801e-04 - val_acc: 0.0025\n",
            "Epoch 9/100\n",
            "23/23 [==============================] - 3s 143ms/step - loss: 8.5565e-04 - acc: 7.0175e-04 - val_loss: 8.0217e-04 - val_acc: 0.0025\n",
            "Epoch 10/100\n",
            "23/23 [==============================] - 5s 231ms/step - loss: 8.1373e-04 - acc: 7.0175e-04 - val_loss: 6.5793e-04 - val_acc: 0.0025\n",
            "Epoch 11/100\n",
            "23/23 [==============================] - 3s 140ms/step - loss: 7.8737e-04 - acc: 7.0175e-04 - val_loss: 6.9636e-04 - val_acc: 0.0025\n",
            "Epoch 12/100\n",
            "23/23 [==============================] - 3s 141ms/step - loss: 7.6777e-04 - acc: 7.0175e-04 - val_loss: 6.3225e-04 - val_acc: 0.0025\n",
            "Epoch 13/100\n",
            "23/23 [==============================] - 5s 238ms/step - loss: 7.1546e-04 - acc: 7.0175e-04 - val_loss: 7.4494e-04 - val_acc: 0.0025\n",
            "Epoch 14/100\n",
            "23/23 [==============================] - 3s 140ms/step - loss: 7.1632e-04 - acc: 7.0175e-04 - val_loss: 5.8181e-04 - val_acc: 0.0025\n",
            "Epoch 15/100\n",
            "23/23 [==============================] - 3s 142ms/step - loss: 7.2543e-04 - acc: 7.0175e-04 - val_loss: 5.2122e-04 - val_acc: 0.0025\n",
            "Epoch 16/100\n",
            "23/23 [==============================] - 4s 163ms/step - loss: 6.9952e-04 - acc: 7.0175e-04 - val_loss: 6.0425e-04 - val_acc: 0.0025\n",
            "Epoch 17/100\n",
            "23/23 [==============================] - 4s 169ms/step - loss: 6.7793e-04 - acc: 7.0175e-04 - val_loss: 6.4599e-04 - val_acc: 0.0025\n",
            "Epoch 18/100\n",
            "23/23 [==============================] - 3s 141ms/step - loss: 6.3347e-04 - acc: 7.0175e-04 - val_loss: 6.7888e-04 - val_acc: 0.0025\n",
            "Epoch 19/100\n",
            "23/23 [==============================] - 3s 143ms/step - loss: 5.9298e-04 - acc: 7.0175e-04 - val_loss: 4.7983e-04 - val_acc: 0.0025\n",
            "Epoch 20/100\n",
            "23/23 [==============================] - 5s 210ms/step - loss: 5.8215e-04 - acc: 7.0175e-04 - val_loss: 4.8025e-04 - val_acc: 0.0025\n",
            "Epoch 21/100\n",
            "23/23 [==============================] - 3s 142ms/step - loss: 5.5558e-04 - acc: 7.0175e-04 - val_loss: 5.3743e-04 - val_acc: 0.0025\n",
            "Epoch 22/100\n",
            "23/23 [==============================] - 4s 155ms/step - loss: 5.5617e-04 - acc: 7.0175e-04 - val_loss: 6.3924e-04 - val_acc: 0.0025\n",
            "Epoch 23/100\n",
            "23/23 [==============================] - 4s 164ms/step - loss: 6.1736e-04 - acc: 7.0175e-04 - val_loss: 4.8179e-04 - val_acc: 0.0025\n",
            "Epoch 24/100\n",
            "23/23 [==============================] - 4s 171ms/step - loss: 6.0069e-04 - acc: 7.0175e-04 - val_loss: 5.5644e-04 - val_acc: 0.0025\n",
            "Epoch 25/100\n",
            "23/23 [==============================] - 3s 146ms/step - loss: 5.1313e-04 - acc: 7.0175e-04 - val_loss: 4.3813e-04 - val_acc: 0.0025\n",
            "Epoch 26/100\n",
            "23/23 [==============================] - 3s 145ms/step - loss: 5.1636e-04 - acc: 7.0175e-04 - val_loss: 4.5971e-04 - val_acc: 0.0025\n",
            "Epoch 27/100\n",
            "23/23 [==============================] - 4s 198ms/step - loss: 4.9616e-04 - acc: 7.0175e-04 - val_loss: 4.4281e-04 - val_acc: 0.0025\n",
            "Epoch 28/100\n",
            "23/23 [==============================] - 3s 148ms/step - loss: 5.0419e-04 - acc: 7.0175e-04 - val_loss: 5.0647e-04 - val_acc: 0.0025\n",
            "Epoch 29/100\n",
            "23/23 [==============================] - 3s 144ms/step - loss: 4.6867e-04 - acc: 7.0175e-04 - val_loss: 4.7155e-04 - val_acc: 0.0025\n",
            "Epoch 30/100\n",
            "23/23 [==============================] - 4s 159ms/step - loss: 4.9407e-04 - acc: 7.0175e-04 - val_loss: 4.7651e-04 - val_acc: 0.0025\n",
            "Epoch 31/100\n",
            "23/23 [==============================] - 6s 247ms/step - loss: 4.5506e-04 - acc: 7.0175e-04 - val_loss: 5.1803e-04 - val_acc: 0.0025\n",
            "Epoch 32/100\n",
            "23/23 [==============================] - 4s 169ms/step - loss: 4.6205e-04 - acc: 7.0175e-04 - val_loss: 4.7202e-04 - val_acc: 0.0025\n",
            "Epoch 33/100\n",
            "23/23 [==============================] - 3s 145ms/step - loss: 4.4253e-04 - acc: 7.0175e-04 - val_loss: 5.0984e-04 - val_acc: 0.0025\n",
            "Epoch 34/100\n",
            "23/23 [==============================] - 4s 187ms/step - loss: 4.4522e-04 - acc: 7.0175e-04 - val_loss: 4.8019e-04 - val_acc: 0.0025\n",
            "Epoch 35/100\n",
            "23/23 [==============================] - 3s 146ms/step - loss: 4.3210e-04 - acc: 7.0175e-04 - val_loss: 4.7570e-04 - val_acc: 0.0025\n",
            "Epoch 36/100\n",
            "23/23 [==============================] - 3s 146ms/step - loss: 4.1978e-04 - acc: 7.0175e-04 - val_loss: 4.3924e-04 - val_acc: 0.0025\n",
            "Epoch 37/100\n",
            "23/23 [==============================] - 3s 145ms/step - loss: 4.5535e-04 - acc: 7.0175e-04 - val_loss: 3.8006e-04 - val_acc: 0.0025\n",
            "Epoch 38/100\n",
            "23/23 [==============================] - 5s 200ms/step - loss: 4.9363e-04 - acc: 7.0175e-04 - val_loss: 6.0519e-04 - val_acc: 0.0025\n",
            "Epoch 39/100\n",
            "23/23 [==============================] - 3s 145ms/step - loss: 4.2497e-04 - acc: 7.0175e-04 - val_loss: 4.4810e-04 - val_acc: 0.0025\n",
            "Epoch 40/100\n",
            "23/23 [==============================] - 3s 145ms/step - loss: 4.4427e-04 - acc: 7.0175e-04 - val_loss: 5.2212e-04 - val_acc: 0.0025\n",
            "Epoch 41/100\n",
            "23/23 [==============================] - 4s 182ms/step - loss: 4.0831e-04 - acc: 7.0175e-04 - val_loss: 3.6232e-04 - val_acc: 0.0025\n",
            "Epoch 42/100\n",
            "23/23 [==============================] - 4s 159ms/step - loss: 3.9206e-04 - acc: 7.0175e-04 - val_loss: 4.5948e-04 - val_acc: 0.0025\n",
            "Epoch 43/100\n",
            "23/23 [==============================] - 3s 147ms/step - loss: 3.8856e-04 - acc: 7.0175e-04 - val_loss: 5.8161e-04 - val_acc: 0.0025\n",
            "Epoch 44/100\n",
            "23/23 [==============================] - 3s 147ms/step - loss: 4.4161e-04 - acc: 7.0175e-04 - val_loss: 3.2873e-04 - val_acc: 0.0025\n",
            "Epoch 45/100\n",
            "23/23 [==============================] - 5s 203ms/step - loss: 3.9407e-04 - acc: 7.0175e-04 - val_loss: 4.7467e-04 - val_acc: 0.0025\n",
            "Epoch 46/100\n",
            "23/23 [==============================] - 3s 147ms/step - loss: 4.2655e-04 - acc: 7.0175e-04 - val_loss: 4.2064e-04 - val_acc: 0.0025\n",
            "Epoch 47/100\n",
            "23/23 [==============================] - 3s 147ms/step - loss: 4.0774e-04 - acc: 7.0175e-04 - val_loss: 3.5896e-04 - val_acc: 0.0025\n",
            "Epoch 48/100\n",
            "23/23 [==============================] - 4s 194ms/step - loss: 3.6318e-04 - acc: 7.0175e-04 - val_loss: 3.7816e-04 - val_acc: 0.0025\n",
            "Epoch 49/100\n",
            "23/23 [==============================] - 4s 151ms/step - loss: 3.4971e-04 - acc: 7.0175e-04 - val_loss: 3.3599e-04 - val_acc: 0.0025\n",
            "Epoch 50/100\n",
            "23/23 [==============================] - 3s 147ms/step - loss: 4.1437e-04 - acc: 7.0175e-04 - val_loss: 3.4037e-04 - val_acc: 0.0025\n",
            "Epoch 51/100\n",
            "23/23 [==============================] - 3s 147ms/step - loss: 4.1626e-04 - acc: 7.0175e-04 - val_loss: 2.7624e-04 - val_acc: 0.0025\n",
            "Epoch 52/100\n",
            "23/23 [==============================] - 5s 202ms/step - loss: 3.4519e-04 - acc: 7.0175e-04 - val_loss: 2.8821e-04 - val_acc: 0.0025\n",
            "Epoch 53/100\n",
            "23/23 [==============================] - 3s 148ms/step - loss: 3.6086e-04 - acc: 7.0175e-04 - val_loss: 3.4486e-04 - val_acc: 0.0025\n",
            "Epoch 54/100\n",
            "23/23 [==============================] - 3s 148ms/step - loss: 3.5444e-04 - acc: 7.0175e-04 - val_loss: 3.7992e-04 - val_acc: 0.0025\n",
            "Epoch 55/100\n",
            "23/23 [==============================] - 4s 195ms/step - loss: 3.2306e-04 - acc: 7.0175e-04 - val_loss: 2.6534e-04 - val_acc: 0.0025\n",
            "Epoch 56/100\n",
            "23/23 [==============================] - 3s 147ms/step - loss: 3.2300e-04 - acc: 7.0175e-04 - val_loss: 3.4043e-04 - val_acc: 0.0025\n",
            "Epoch 57/100\n",
            "23/23 [==============================] - 3s 147ms/step - loss: 3.6345e-04 - acc: 7.0175e-04 - val_loss: 3.3499e-04 - val_acc: 0.0025\n",
            "Epoch 58/100\n",
            "23/23 [==============================] - 3s 145ms/step - loss: 3.3468e-04 - acc: 7.0175e-04 - val_loss: 3.4779e-04 - val_acc: 0.0025\n",
            "Epoch 59/100\n",
            "23/23 [==============================] - 5s 197ms/step - loss: 3.5275e-04 - acc: 7.0175e-04 - val_loss: 2.6806e-04 - val_acc: 0.0025\n",
            "Epoch 60/100\n",
            "23/23 [==============================] - 4s 155ms/step - loss: 3.0092e-04 - acc: 7.0175e-04 - val_loss: 3.5248e-04 - val_acc: 0.0025\n",
            "Epoch 61/100\n",
            "23/23 [==============================] - 4s 145ms/step - loss: 3.2255e-04 - acc: 7.0175e-04 - val_loss: 2.5330e-04 - val_acc: 0.0025\n",
            "Epoch 62/100\n",
            "23/23 [==============================] - 5s 200ms/step - loss: 2.9996e-04 - acc: 7.0175e-04 - val_loss: 2.7477e-04 - val_acc: 0.0025\n",
            "Epoch 63/100\n",
            "23/23 [==============================] - 3s 147ms/step - loss: 3.4279e-04 - acc: 7.0175e-04 - val_loss: 3.2191e-04 - val_acc: 0.0025\n",
            "Epoch 64/100\n",
            "23/23 [==============================] - 3s 147ms/step - loss: 2.9156e-04 - acc: 7.0175e-04 - val_loss: 2.7555e-04 - val_acc: 0.0025\n",
            "Epoch 65/100\n",
            "23/23 [==============================] - 5s 200ms/step - loss: 2.7978e-04 - acc: 7.0175e-04 - val_loss: 2.5098e-04 - val_acc: 0.0025\n",
            "Epoch 66/100\n",
            "23/23 [==============================] - 4s 163ms/step - loss: 2.8586e-04 - acc: 7.0175e-04 - val_loss: 3.2754e-04 - val_acc: 0.0025\n",
            "Epoch 67/100\n",
            "23/23 [==============================] - 3s 146ms/step - loss: 3.0346e-04 - acc: 7.0175e-04 - val_loss: 2.7854e-04 - val_acc: 0.0025\n",
            "Epoch 68/100\n",
            "23/23 [==============================] - 3s 148ms/step - loss: 2.7317e-04 - acc: 7.0175e-04 - val_loss: 2.4917e-04 - val_acc: 0.0025\n",
            "Epoch 69/100\n",
            "23/23 [==============================] - 5s 201ms/step - loss: 2.6185e-04 - acc: 7.0175e-04 - val_loss: 2.5605e-04 - val_acc: 0.0025\n",
            "Epoch 70/100\n",
            "23/23 [==============================] - 3s 146ms/step - loss: 2.6655e-04 - acc: 7.0175e-04 - val_loss: 2.1608e-04 - val_acc: 0.0025\n",
            "Epoch 71/100\n",
            "23/23 [==============================] - 3s 147ms/step - loss: 2.5811e-04 - acc: 7.0175e-04 - val_loss: 2.2794e-04 - val_acc: 0.0025\n",
            "Epoch 72/100\n",
            "23/23 [==============================] - 4s 194ms/step - loss: 2.5220e-04 - acc: 7.0175e-04 - val_loss: 2.6465e-04 - val_acc: 0.0025\n",
            "Epoch 73/100\n",
            "23/23 [==============================] - 5s 216ms/step - loss: 2.6872e-04 - acc: 7.0175e-04 - val_loss: 2.2899e-04 - val_acc: 0.0025\n",
            "Epoch 74/100\n",
            "23/23 [==============================] - 3s 149ms/step - loss: 2.6124e-04 - acc: 7.0175e-04 - val_loss: 2.1119e-04 - val_acc: 0.0025\n",
            "Epoch 75/100\n",
            "23/23 [==============================] - 3s 150ms/step - loss: 2.8321e-04 - acc: 7.0175e-04 - val_loss: 2.9739e-04 - val_acc: 0.0025\n",
            "Epoch 76/100\n",
            "23/23 [==============================] - 5s 202ms/step - loss: 2.5527e-04 - acc: 7.0175e-04 - val_loss: 2.0906e-04 - val_acc: 0.0025\n",
            "Epoch 77/100\n",
            "23/23 [==============================] - 3s 149ms/step - loss: 2.4549e-04 - acc: 7.0175e-04 - val_loss: 1.8494e-04 - val_acc: 0.0025\n",
            "Epoch 78/100\n",
            "23/23 [==============================] - 3s 149ms/step - loss: 2.5650e-04 - acc: 7.0175e-04 - val_loss: 2.3621e-04 - val_acc: 0.0025\n",
            "Epoch 79/100\n",
            "23/23 [==============================] - 4s 174ms/step - loss: 2.3901e-04 - acc: 7.0175e-04 - val_loss: 2.3938e-04 - val_acc: 0.0025\n",
            "Epoch 80/100\n",
            "23/23 [==============================] - 4s 171ms/step - loss: 2.3510e-04 - acc: 7.0175e-04 - val_loss: 1.9245e-04 - val_acc: 0.0025\n",
            "Epoch 81/100\n",
            "23/23 [==============================] - 3s 149ms/step - loss: 2.4073e-04 - acc: 7.0175e-04 - val_loss: 1.8096e-04 - val_acc: 0.0025\n",
            "Epoch 82/100\n",
            "23/23 [==============================] - 3s 148ms/step - loss: 2.4454e-04 - acc: 7.0175e-04 - val_loss: 1.9125e-04 - val_acc: 0.0025\n",
            "Epoch 83/100\n",
            "23/23 [==============================] - 5s 199ms/step - loss: 2.4160e-04 - acc: 7.0175e-04 - val_loss: 3.3187e-04 - val_acc: 0.0025\n",
            "Epoch 84/100\n",
            "23/23 [==============================] - 3s 147ms/step - loss: 2.4819e-04 - acc: 7.0175e-04 - val_loss: 2.1970e-04 - val_acc: 0.0025\n",
            "Epoch 85/100\n",
            "23/23 [==============================] - 3s 147ms/step - loss: 2.5016e-04 - acc: 7.0175e-04 - val_loss: 1.8666e-04 - val_acc: 0.0025\n",
            "Epoch 86/100\n",
            "23/23 [==============================] - 4s 174ms/step - loss: 2.3771e-04 - acc: 7.0175e-04 - val_loss: 2.6902e-04 - val_acc: 0.0025\n",
            "Epoch 87/100\n",
            "23/23 [==============================] - 4s 166ms/step - loss: 2.4914e-04 - acc: 7.0175e-04 - val_loss: 2.4914e-04 - val_acc: 0.0025\n",
            "Epoch 88/100\n",
            "23/23 [==============================] - 3s 148ms/step - loss: 2.3402e-04 - acc: 7.0175e-04 - val_loss: 2.1938e-04 - val_acc: 0.0025\n",
            "Epoch 89/100\n",
            "23/23 [==============================] - 4s 163ms/step - loss: 2.1816e-04 - acc: 7.0175e-04 - val_loss: 2.2763e-04 - val_acc: 0.0025\n",
            "Epoch 90/100\n",
            "23/23 [==============================] - 5s 203ms/step - loss: 2.1748e-04 - acc: 7.0175e-04 - val_loss: 3.0663e-04 - val_acc: 0.0025\n",
            "Epoch 91/100\n",
            "23/23 [==============================] - 3s 149ms/step - loss: 2.3325e-04 - acc: 7.0175e-04 - val_loss: 1.7152e-04 - val_acc: 0.0025\n",
            "Epoch 92/100\n",
            "23/23 [==============================] - 3s 148ms/step - loss: 2.0940e-04 - acc: 7.0175e-04 - val_loss: 2.0307e-04 - val_acc: 0.0025\n",
            "Epoch 93/100\n",
            "23/23 [==============================] - 4s 194ms/step - loss: 2.1731e-04 - acc: 7.0175e-04 - val_loss: 2.3440e-04 - val_acc: 0.0025\n",
            "Epoch 94/100\n",
            "23/23 [==============================] - 4s 151ms/step - loss: 2.5106e-04 - acc: 7.0175e-04 - val_loss: 3.3122e-04 - val_acc: 0.0025\n",
            "Epoch 95/100\n",
            "23/23 [==============================] - 3s 150ms/step - loss: 2.2787e-04 - acc: 7.0175e-04 - val_loss: 1.7785e-04 - val_acc: 0.0025\n",
            "Epoch 96/100\n",
            "23/23 [==============================] - 4s 157ms/step - loss: 2.6000e-04 - acc: 7.0175e-04 - val_loss: 1.7864e-04 - val_acc: 0.0025\n",
            "Epoch 97/100\n",
            "23/23 [==============================] - 5s 195ms/step - loss: 2.1635e-04 - acc: 7.0175e-04 - val_loss: 1.7773e-04 - val_acc: 0.0025\n",
            "Epoch 98/100\n",
            "23/23 [==============================] - 3s 151ms/step - loss: 2.3369e-04 - acc: 7.0175e-04 - val_loss: 1.7660e-04 - val_acc: 0.0025\n",
            "Epoch 99/100\n",
            "23/23 [==============================] - 3s 151ms/step - loss: 2.0367e-04 - acc: 7.0175e-04 - val_loss: 1.6629e-04 - val_acc: 0.0025\n",
            "Epoch 100/100\n",
            "23/23 [==============================] - 5s 204ms/step - loss: 2.0379e-04 - acc: 7.0175e-04 - val_loss: 2.5184e-04 - val_acc: 0.0025\n"
          ]
        },
        {
          "output_type": "execute_result",
          "data": {
            "text/plain": [
              "<keras.callbacks.History at 0x7f0e20042a00>"
            ]
          },
          "metadata": {},
          "execution_count": 25
        }
      ]
    },
    {
      "cell_type": "code",
      "source": [
        "train_predict=model.predict(x_train)\n",
        "test_predict=model.predict(x_test)"
      ],
      "metadata": {
        "colab": {
          "base_uri": "https://localhost:8080/"
        },
        "id": "uH6CwOF4PMOG",
        "outputId": "b8810956-dd47-4d64-91aa-76a29599813a"
      },
      "execution_count": 26,
      "outputs": [
        {
          "output_type": "stream",
          "name": "stdout",
          "text": [
            "45/45 [==============================] - 3s 44ms/step\n",
            "13/13 [==============================] - 1s 47ms/step\n"
          ]
        }
      ]
    },
    {
      "cell_type": "code",
      "source": [
        "train_predict=scaler.inverse_transform(train_data)\n",
        "test_predict=scaler.inverse_transform(test_predict)"
      ],
      "metadata": {
        "id": "6ijUZDsKPMSj"
      },
      "execution_count": 27,
      "outputs": []
    },
    {
      "cell_type": "code",
      "source": [
        "math.sqrt(mean_squared_error(y_test,test_predict))"
      ],
      "metadata": {
        "colab": {
          "base_uri": "https://localhost:8080/"
        },
        "id": "FQ3MWROLPMVy",
        "outputId": "0c224c7a-f21f-4837-efdf-7b7b30e9ba74"
      },
      "execution_count": 28,
      "outputs": [
        {
          "output_type": "execute_result",
          "data": {
            "text/plain": [
              "106.86377726244002"
            ]
          },
          "metadata": {},
          "execution_count": 28
        }
      ]
    },
    {
      "cell_type": "code",
      "source": [
        "look_back=100\n",
        "trainPredictPlot=np.empty_like(training_set)\n",
        "trainPredictPlot[:,:]=np.nan\n",
        "trainPredictPlot[look_back:len(train_predict)+look_back,:]=train_predict\n"
      ],
      "metadata": {
        "id": "LIiptwe3PMYy"
      },
      "execution_count": 30,
      "outputs": []
    },
    {
      "cell_type": "code",
      "source": [
        "plt.figure(figsize=(10,6))\n",
        "plt.plot(scaler.inverse_transform(training_set))\n",
        "plt.plot(trainPredictPlot)\n",
        "plt.show()"
      ],
      "metadata": {
        "colab": {
          "base_uri": "https://localhost:8080/",
          "height": 377
        },
        "id": "3QrkSLEcPMcD",
        "outputId": "f22a3410-f379-427a-873c-1d99d06c649f"
      },
      "execution_count": 31,
      "outputs": [
        {
          "output_type": "display_data",
          "data": {
            "text/plain": [
              "<Figure size 720x432 with 1 Axes>"
            ],
            "image/png": "[encoded data removed]"
          },
          "metadata": {}
        }
      ]
    },
    {
      "cell_type": "code",
      "source": [],
      "metadata": {
        "id": "sH_Y_ZU1PMlJ"
      },
      "execution_count": null,
      "outputs": []
    }
  ]
}